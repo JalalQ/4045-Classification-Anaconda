{
 "cells": [
  {
   "cell_type": "code",
   "execution_count": 17,
   "metadata": {},
   "outputs": [],
   "source": [
    "#Random Oversampling: Randomly duplicate examples in the minority class.\n",
    "# https://www.kaggle.com/residentmario/undersampling-and-oversampling-imbalanced-data\n",
    "\n",
    "import pandas as pd\n",
    "from sklearn.model_selection import train_test_split\n",
    "from dmba import classificationSummary\n",
    "\n",
    "from sklearn.neural_network import MLPClassifier # Neural Net\n",
    "from sklearn.linear_model import LogisticRegression #Logistic Regression\n",
    "from sklearn.model_selection import GridSearchCV #Needed for Decision Tree\n",
    "from sklearn.tree import DecisionTreeClassifier #Needed for Decision Tree"
   ]
  },
  {
   "cell_type": "code",
   "execution_count": 18,
   "metadata": {},
   "outputs": [],
   "source": [
    "flip_df = pd.read_csv('Renesas.csv')\n",
    "flip_df.columns = [s.strip().replace(' ', '_') for s in flip_df.columns]"
   ]
  },
  {
   "cell_type": "code",
   "execution_count": 19,
   "metadata": {},
   "outputs": [
    {
     "data": {
      "text/plain": [
       "Index(['Booking_Part_Number', 'Product_BU', 'Region', 'Category_1',\n",
       "       'Category_2', 'Quantity', 'Unit_Price', 'Left_10', 'IC_Source',\n",
       "       'IHS_ECCN', 'Heat_2', 'Distributors', 'IHS_EOL', 'IHS_Cost',\n",
       "       'Flip_Stock', 'Sales_History', 'Total_Quote', 'Total_Quote_$$',\n",
       "       'Authorized_Availability', 'Authorized_Price',\n",
       "       'Authorized_Availability', 'Authorized_Price.1', 'Flip_Stock.1',\n",
       "       'Sales_History.1', 'Total_Quotes', 'Quoted_Amount'],\n",
       "      dtype='object')"
      ]
     },
     "execution_count": 19,
     "metadata": {},
     "output_type": "execute_result"
    }
   ],
   "source": [
    "flip_df.columns"
   ]
  },
  {
   "cell_type": "code",
   "execution_count": 20,
   "metadata": {},
   "outputs": [],
   "source": [
    "#cold=1354\n",
    "#warm=20\n",
    "#Classification should exceed 98.54%\n",
    "\n",
    "predictors = ['Category_1', 'Quantity', 'Unit_Price', 'Distributors']\n",
    "#predictors = ['Region', 'Quantity', 'Unit_Price']\n",
    "outcome = 'Heat_2'\n",
    "\n",
    "X=flip_df[predictors].loc[0:1372]\n",
    "y= flip_df[outcome].loc[0:1372]"
   ]
  },
  {
   "cell_type": "code",
   "execution_count": 21,
   "metadata": {},
   "outputs": [],
   "source": [
    "X = pd.get_dummies(X, prefix_sep='_', drop_first=False)"
   ]
  },
  {
   "cell_type": "code",
   "execution_count": 22,
   "metadata": {},
   "outputs": [],
   "source": [
    "X.columns = [s.strip().replace(' ', '_') for s in X.columns]\n",
    "X.columns = [s.strip().replace('.', '_') for s in X.columns]\n",
    "X.columns = [s.strip().replace('-', '_') for s in X.columns]\n",
    "X.columns = [s.strip().replace('/', '_') for s in X.columns]\n",
    "X.columns = [s.strip().replace('(', '_') for s in X.columns]\n",
    "X.columns = [s.strip().replace(')', '_') for s in X.columns]\n",
    "\n",
    "train_X, valid_X, train_y, valid_y = train_test_split(X, y, test_size=0.4, random_state=10) # test_size is validation data."
   ]
  },
  {
   "cell_type": "code",
   "execution_count": 23,
   "metadata": {},
   "outputs": [],
   "source": [
    "#y.to_csv(r'C:\\Users\\jalaluddin\\Desktop\\GBC B412\\Data Project Capstone BUS 4045\\Assignments\\imblance\\y.csv', index = False)"
   ]
  },
  {
   "cell_type": "code",
   "execution_count": 24,
   "metadata": {},
   "outputs": [],
   "source": [
    "from imblearn.over_sampling import RandomOverSampler\n",
    "from imblearn.under_sampling import RandomUnderSampler\n",
    "\n",
    "ros = RandomOverSampler(random_state=5) #(sampling_strategy=2.0, random_state=5)"
   ]
  },
  {
   "cell_type": "code",
   "execution_count": 25,
   "metadata": {},
   "outputs": [],
   "source": [
    "train_X_re, train_y_re = ros.fit_resample(train_X, train_y)"
   ]
  },
  {
   "cell_type": "code",
   "execution_count": 26,
   "metadata": {},
   "outputs": [],
   "source": [
    "#train_y.to_csv(r'C:\\Users\\jalaluddin\\Desktop\\GBC B412\\Data Project Capstone BUS 4045\\Assignments\\imbalance\\train_y.csv', index = False)"
   ]
  },
  {
   "cell_type": "code",
   "execution_count": 27,
   "metadata": {},
   "outputs": [
    {
     "name": "stdout",
     "output_type": "stream",
     "text": [
      "Confusion Matrix (Accuracy 0.9873)\n",
      "\n",
      "       Prediction\n",
      "Actual Cold Warm\n",
      "  Cold  542    1\n",
      "  Warm    6    1\n"
     ]
    }
   ],
   "source": [
    "from sklearn.ensemble import RandomForestClassifier, GradientBoostingClassifier\n",
    "\n",
    "rf = RandomForestClassifier(n_estimators=1000, random_state=1)\n",
    "rf.fit(train_X_re, train_y_re)\n",
    "classificationSummary(valid_y, rf.predict(valid_X), class_names=['Cold', 'Warm'])"
   ]
  },
  {
   "cell_type": "code",
   "execution_count": 28,
   "metadata": {},
   "outputs": [
    {
     "name": "stdout",
     "output_type": "stream",
     "text": [
      "Confusion Matrix (Accuracy 0.9764)\n",
      "\n",
      "       Prediction\n",
      "Actual Cold Warm\n",
      "  Cold  535    8\n",
      "  Warm    5    2\n"
     ]
    }
   ],
   "source": [
    "boost = GradientBoostingClassifier()\n",
    "boost.fit(train_X_re, train_y_re)\n",
    "classificationSummary(valid_y, boost.predict(valid_X), class_names=['Cold', 'Warm'])"
   ]
  },
  {
   "cell_type": "code",
   "execution_count": 29,
   "metadata": {},
   "outputs": [
    {
     "name": "stdout",
     "output_type": "stream",
     "text": [
      "Improved score:  0.9814814814814815\n",
      "Improved parameters:  {'max_depth': 15, 'min_impurity_decrease': 0.0009, 'min_samples_split': 10}\n"
     ]
    }
   ],
   "source": [
    "# Start with an initial guess for parameters\n",
    "param_grid = {\n",
    "'max_depth': [10, 20, 30, 40],\n",
    "'min_samples_split': [20, 40, 60, 80, 100],\n",
    "'min_impurity_decrease': [0, 0.0005, 0.001, 0.005, 0.01],\n",
    "}\n",
    "\n",
    "gridSearch = GridSearchCV(DecisionTreeClassifier(random_state=1), param_grid, cv=5, n_jobs=-1) # n_jobs=-1 will utilize all available CPUs\n",
    "gridSearch.fit(train_X_re, train_y_re)\n",
    "\n",
    "#print('Initial score: ', gridSearch.best_score_)\n",
    "#print('Initial parameters: ', gridSearch.best_params_)\n",
    "\n",
    "# Adapt grid based on result from initial grid search\n",
    "param_grid = {\n",
    "'max_depth': list(range(2, 16)), # 14 values\n",
    "'min_samples_split': list(range(10, 22)), # 11 values\n",
    "'min_impurity_decrease': [0.0009, 0.001, 0.0011], # 3 values\n",
    "}\n",
    "gridSearch = GridSearchCV(DecisionTreeClassifier(random_state=1), param_grid, cv=5, n_jobs=-1)\n",
    "gridSearch.fit(train_X_re, train_y_re)\n",
    "print('Improved score: ', gridSearch.best_score_)\n",
    "print('Improved parameters: ', gridSearch.best_params_)\n",
    "bestClassTree = gridSearch.best_estimator_"
   ]
  },
  {
   "cell_type": "code",
   "execution_count": 30,
   "metadata": {},
   "outputs": [
    {
     "name": "stdout",
     "output_type": "stream",
     "text": [
      "Confusion Matrix (Accuracy 0.9618)\n",
      "\n",
      "       Prediction\n",
      "Actual Cold Warm\n",
      "  Cold  527   16\n",
      "  Warm    5    2\n"
     ]
    }
   ],
   "source": [
    "classificationSummary(valid_y, gridSearch.predict(valid_X), class_names=['Cold', 'Warm'])"
   ]
  },
  {
   "cell_type": "code",
   "execution_count": 31,
   "metadata": {},
   "outputs": [
    {
     "name": "stdout",
     "output_type": "stream",
     "text": [
      "Confusion Matrix (Accuracy 0.9873)\n",
      "\n",
      "       Prediction\n",
      "Actual Cold Warm\n",
      "  Cold  542    1\n",
      "  Warm    6    1\n"
     ]
    }
   ],
   "source": [
    "from sklearn import ensemble\n",
    "\n",
    "#instantiate model\n",
    "nEst = 10000\n",
    "depth = 8\n",
    "learnRate = 0.007\n",
    "maxFeatures = 4\n",
    "GBMModel2 = ensemble.GradientBoostingClassifier(n_estimators=nEst, max_depth=depth, learning_rate=learnRate, max_features=maxFeatures)\n",
    "\n",
    "GBMModel2 = GBMModel2.fit(train_X_re, train_y_re)\n",
    "\n",
    "classificationSummary(valid_y, GBMModel2.predict(valid_X), class_names=['Cold', 'Warm'])"
   ]
  },
  {
   "cell_type": "code",
   "execution_count": 35,
   "metadata": {},
   "outputs": [
    {
     "name": "stdout",
     "output_type": "stream",
     "text": [
      "Confusion Matrix (Accuracy 0.6691)\n",
      "\n",
      "       Prediction\n",
      "Actual Cold Warm\n",
      "  Cold  362  181\n",
      "  Warm    1    6\n"
     ]
    },
    {
     "name": "stderr",
     "output_type": "stream",
     "text": [
      "C:\\Users\\jalaluddin\\Anaconda3\\lib\\site-packages\\sklearn\\neural_network\\_multilayer_perceptron.py:471: ConvergenceWarning: lbfgs failed to converge (status=1):\n",
      "STOP: TOTAL NO. of ITERATIONS REACHED LIMIT.\n",
      "\n",
      "Increase the number of iterations (max_iter) or scale the data as shown in:\n",
      "    https://scikit-learn.org/stable/modules/preprocessing.html\n",
      "  self.n_iter_ = _check_optimize_result(\"lbfgs\", opt_res, self.max_iter)\n"
     ]
    }
   ],
   "source": [
    "classes = sorted(y.unique())\n",
    "clf1 = MLPClassifier(hidden_layer_sizes=(200), activation='logistic', solver='lbfgs', random_state=1)\n",
    "clf1.fit(train_X_re, train_y_re)\n",
    "#clf.predict(X)\n",
    "\n",
    "classificationSummary(valid_y, clf1.predict(valid_X), class_names=['Cold', 'Warm'])"
   ]
  },
  {
   "cell_type": "code",
   "execution_count": 40,
   "metadata": {},
   "outputs": [
    {
     "name": "stdout",
     "output_type": "stream",
     "text": [
      "Confusion Matrix (Accuracy 0.6691)\n",
      "\n",
      "       Prediction\n",
      "Actual Cold Warm\n",
      "  Cold  362  181\n",
      "  Warm    1    6\n"
     ]
    },
    {
     "name": "stderr",
     "output_type": "stream",
     "text": [
      "C:\\Users\\jalaluddin\\Anaconda3\\lib\\site-packages\\sklearn\\neural_network\\_multilayer_perceptron.py:471: ConvergenceWarning: lbfgs failed to converge (status=1):\n",
      "STOP: TOTAL NO. of ITERATIONS REACHED LIMIT.\n",
      "\n",
      "Increase the number of iterations (max_iter) or scale the data as shown in:\n",
      "    https://scikit-learn.org/stable/modules/preprocessing.html\n",
      "  self.n_iter_ = _check_optimize_result(\"lbfgs\", opt_res, self.max_iter)\n"
     ]
    }
   ],
   "source": [
    "classes = sorted(y.unique())\n",
    "clf2 = MLPClassifier(hidden_layer_sizes=(800), activation='logistic', solver='lbfgs', random_state=1)\n",
    "clf2.fit(train_X_re, train_y_re)\n",
    "#clf.predict(X)\n",
    "\n",
    "classificationSummary(valid_y, clf2.predict(valid_X), class_names=['Cold', 'Warm'])"
   ]
  },
  {
   "cell_type": "code",
   "execution_count": 41,
   "metadata": {},
   "outputs": [
    {
     "name": "stderr",
     "output_type": "stream",
     "text": [
      "C:\\Users\\jalaluddin\\Anaconda3\\lib\\site-packages\\sklearn\\neural_network\\_multilayer_perceptron.py:471: ConvergenceWarning: lbfgs failed to converge (status=1):\n",
      "STOP: TOTAL NO. of ITERATIONS REACHED LIMIT.\n",
      "\n",
      "Increase the number of iterations (max_iter) or scale the data as shown in:\n",
      "    https://scikit-learn.org/stable/modules/preprocessing.html\n",
      "  self.n_iter_ = _check_optimize_result(\"lbfgs\", opt_res, self.max_iter)\n",
      "C:\\Users\\jalaluddin\\Anaconda3\\lib\\site-packages\\sklearn\\neural_network\\_multilayer_perceptron.py:471: ConvergenceWarning: lbfgs failed to converge (status=1):\n",
      "STOP: TOTAL NO. of ITERATIONS REACHED LIMIT.\n",
      "\n",
      "Increase the number of iterations (max_iter) or scale the data as shown in:\n",
      "    https://scikit-learn.org/stable/modules/preprocessing.html\n",
      "  self.n_iter_ = _check_optimize_result(\"lbfgs\", opt_res, self.max_iter)\n"
     ]
    },
    {
     "name": "stdout",
     "output_type": "stream",
     "text": [
      "Confusion Matrix (Accuracy 0.6909)\n",
      "\n",
      "       Prediction\n",
      "Actual Cold Warm\n",
      "  Cold  374  169\n",
      "  Warm    1    6\n"
     ]
    }
   ],
   "source": [
    "#Now that three classifiers have been trained use majority voting here.\n",
    "from sklearn.ensemble import VotingClassifier\n",
    "eclf1 = VotingClassifier(estimators=[('NN1', clf1), ('NN2', clf2), ('Boost', boost)], voting='hard')\n",
    "eclf1 = eclf1.fit(train_X_re, train_y_re)\n",
    "\n",
    "classificationSummary(valid_y, eclf1.predict(valid_X), class_names=['Cold', 'Warm'])"
   ]
  },
  {
   "cell_type": "code",
   "execution_count": 42,
   "metadata": {},
   "outputs": [
    {
     "name": "stdout",
     "output_type": "stream",
     "text": [
      "Confusion Matrix (Accuracy 0.6999)\n",
      "\n",
      "       Prediction\n",
      "Actual Cold Warm\n",
      "  Cold  945  408\n",
      "  Warm    4   16\n"
     ]
    }
   ],
   "source": [
    "classificationSummary(y, eclf1.predict(X), class_names=['Cold', 'Warm'])"
   ]
  },
  {
   "cell_type": "code",
   "execution_count": 43,
   "metadata": {},
   "outputs": [],
   "source": [
    "boost_proba = boost.predict_proba(X)\n",
    "clf_proba1 = clf1.predict_proba(X)\n",
    "clf_proba2 = clf2.predict_proba(X)\n",
    "\n",
    "sum_proba=(boost_proba+clf_proba1+clf_proba2)/3"
   ]
  },
  {
   "cell_type": "code",
   "execution_count": 44,
   "metadata": {},
   "outputs": [
    {
     "name": "stdout",
     "output_type": "stream",
     "text": [
      "     actual      p(0)      p(1) predicted\n",
      "0      Cold  0.517700  0.482300      Warm\n",
      "1      Cold  0.586867  0.413133      Warm\n",
      "2      Cold  0.533557  0.466443      Warm\n",
      "3      Cold  0.749501  0.250499      Cold\n",
      "4      Cold  0.729618  0.270382      Cold\n",
      "...     ...       ...       ...       ...\n",
      "1368   Cold  0.556620  0.443380      Cold\n",
      "1369   Cold  0.767559  0.232441      Cold\n",
      "1370   Cold  0.800581  0.199419      Cold\n",
      "1371   Cold  0.584257  0.415743      Cold\n",
      "1372   Cold  0.677186  0.322814      Cold\n",
      "\n",
      "[1373 rows x 4 columns]\n"
     ]
    }
   ],
   "source": [
    "final_predict=eclf1.predict(X)\n",
    "\n",
    "final_result = pd.DataFrame({'actual': y,\n",
    "'p(0)': [p[0] for p in sum_proba],\n",
    "'p(1)': [p[1] for p in sum_proba],\n",
    "'predicted': final_predict })\n",
    "\n",
    "print(final_result)"
   ]
  },
  {
   "cell_type": "code",
   "execution_count": 45,
   "metadata": {},
   "outputs": [],
   "source": [
    "final_result.to_csv(r'C:\\Users\\jalaluddin\\Desktop\\GBC B412\\Data Project Capstone BUS 4045\\Assignments\\imbalance\\result_renesas.csv', index = False)"
   ]
  },
  {
   "cell_type": "code",
   "execution_count": null,
   "metadata": {},
   "outputs": [],
   "source": []
  }
 ],
 "metadata": {
  "kernelspec": {
   "display_name": "Python 3",
   "language": "python",
   "name": "python3"
  },
  "language_info": {
   "codemirror_mode": {
    "name": "ipython",
    "version": 3
   },
   "file_extension": ".py",
   "mimetype": "text/x-python",
   "name": "python",
   "nbconvert_exporter": "python",
   "pygments_lexer": "ipython3",
   "version": "3.7.4"
  }
 },
 "nbformat": 4,
 "nbformat_minor": 2
}
